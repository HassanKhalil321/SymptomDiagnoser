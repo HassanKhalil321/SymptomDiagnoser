{
  "cells": [
    {
      "cell_type": "code",
      "execution_count": 1,
      "id": "83c5de47-ded7-4332-ac9c-abbc5b2bbd30",
      "metadata": {
        "id": "83c5de47-ded7-4332-ac9c-abbc5b2bbd30"
      },
      "outputs": [],
      "source": [
        "import pandas as pd\n",
        "import numpy as np\n",
        "import tensorflow as tf\n",
        "import matplotlib.pyplot as plt"
      ]
    },
    {
      "cell_type": "code",
      "execution_count": 2,
      "id": "34eb7021-6fd1-46c0-abf5-454e3ab87c79",
      "metadata": {
        "id": "34eb7021-6fd1-46c0-abf5-454e3ab87c79"
      },
      "outputs": [],
      "source": [
        "dataset=pd.read_csv('symptoms_diseases_train.csv')"
      ]
    },
    {
      "cell_type": "code",
      "execution_count": 3,
      "id": "LTUqQ3E-Eewg",
      "metadata": {
        "id": "LTUqQ3E-Eewg"
      },
      "outputs": [],
      "source": [
        "symptoms=dataset['query']\n",
        "label=dataset['response']"
      ]
    },
    {
      "cell_type": "code",
      "execution_count": 4,
      "id": "JIzS2BwoYJNB",
      "metadata": {
        "id": "JIzS2BwoYJNB"
      },
      "outputs": [],
      "source": [
        "train_df = pd.DataFrame({\n",
        "    \"Symptoms\": symptoms,\n",
        "    \"Label\": label\n",
        "})"
      ]
    },
    {
      "cell_type": "code",
      "execution_count": 5,
      "id": "bCKjtVpv19xG",
      "metadata": {
        "id": "bCKjtVpv19xG"
      },
      "outputs": [],
      "source": [
        "label_counts = train_df['Label'].value_counts()\n",
        "\n",
        "valid_labels = label_counts[label_counts >= 400].index\n",
        "\n",
        "filtered_train_df = train_df[train_df['Label'].isin(valid_labels)]\n",
        "\n"
      ]
    },
    {
      "cell_type": "code",
      "execution_count": 6,
      "id": "yXdD9hE52ZzI",
      "metadata": {
        "id": "yXdD9hE52ZzI"
      },
      "outputs": [],
      "source": [
        "train_df = filtered_train_df.groupby('Label').apply(lambda x: x.head(400))\n",
        "test_df= filtered_train_df.groupby('Label').apply(lambda x: x[400:410])\n"
      ]
    },
    {
      "cell_type": "code",
      "execution_count": null,
      "id": "4KPLz9AS0px-",
      "metadata": {
        "id": "4KPLz9AS0px-"
      },
      "outputs": [],
      "source": [
        "def remove_phrase(symptoms, phrase):\n",
        "\n",
        "  new_symptoms = symptoms.replace(phrase, \"\")\n",
        "  return new_symptoms\n",
        "\n",
        "updated_symptoms = remove_phrase(train_df['Symptoms'], \"Having these specific symptoms :->\")\n",
        "\n",
        "train_df[\"Symptoms\"] = train_df[\"Symptoms\"].apply(lambda x: remove_phrase(x, \"Having these specific symptoms :->\"))\n",
        "\n",
        "train_df.head()"
      ]
    },
    {
      "cell_type": "code",
      "execution_count": 8,
      "id": "GnS47RKSB491",
      "metadata": {
        "id": "GnS47RKSB491"
      },
      "outputs": [],
      "source": [
        "\n",
        "train_df = train_df.sample(frac=1).reset_index(drop=True)\n"
      ]
    },
    {
      "cell_type": "code",
      "execution_count": 34,
      "id": "XrDHD99JX9Wr",
      "metadata": {
        "id": "XrDHD99JX9Wr"
      },
      "outputs": [],
      "source": [
        "labels=train_df['Label']\n",
        "Symptoms=train_df['Symptoms']\n",
        "\n"
      ]
    },
    {
      "cell_type": "code",
      "source": [
        "len(Symptoms)"
      ],
      "metadata": {
        "id": "iI8nO9MvVMsJ"
      },
      "id": "iI8nO9MvVMsJ",
      "execution_count": null,
      "outputs": []
    },
    {
      "cell_type": "code",
      "source": [],
      "metadata": {
        "id": "GTyGLWexVzvg"
      },
      "id": "GTyGLWexVzvg",
      "execution_count": null,
      "outputs": []
    },
    {
      "cell_type": "code",
      "execution_count": null,
      "id": "50f22ede-ac5d-4f90-8c9b-7a4d56bc8a60",
      "metadata": {
        "id": "50f22ede-ac5d-4f90-8c9b-7a4d56bc8a60"
      },
      "outputs": [],
      "source": [
        "labels.head()"
      ]
    },
    {
      "cell_type": "code",
      "execution_count": 11,
      "id": "2516284a-c2e8-4c87-951c-79b784779c93",
      "metadata": {
        "colab": {
          "base_uri": "https://localhost:8080/",
          "height": 53
        },
        "id": "2516284a-c2e8-4c87-951c-79b784779c93",
        "outputId": "524bbef4-9a38-4d2a-f171-cd9efc7ad717"
      },
      "outputs": [
        {
          "output_type": "execute_result",
          "data": {
            "text/plain": [
              "'lower abdominal pain ,intermenstrual bleeding ,pelvic pain ,burning abdominal pain ,problems during pregnancy ,spotting or bleeding during pregnancy ,blood clots during menstrual periods '"
            ],
            "application/vnd.google.colaboratory.intrinsic+json": {
              "type": "string"
            }
          },
          "metadata": {},
          "execution_count": 11
        }
      ],
      "source": [
        "Symptoms[150000]"
      ]
    },
    {
      "cell_type": "code",
      "execution_count": null,
      "id": "vAXeNwfdY9u1",
      "metadata": {
        "id": "vAXeNwfdY9u1"
      },
      "outputs": [],
      "source": [
        "labels[150000]"
      ]
    },
    {
      "cell_type": "code",
      "execution_count": 37,
      "id": "51cdb3be-12d6-4ae5-baa6-a9316301ef74",
      "metadata": {
        "id": "51cdb3be-12d6-4ae5-baa6-a9316301ef74"
      },
      "outputs": [],
      "source": [
        "class_names=set(labels)\n"
      ]
    },
    {
      "cell_type": "code",
      "execution_count": null,
      "id": "rmJNR6PoY_Rh",
      "metadata": {
        "id": "rmJNR6PoY_Rh"
      },
      "outputs": [],
      "source": [
        "unique_labels = set(labels)\n",
        "unique_label_count = len(unique_labels)\n",
        "print(f\"Number of unique labels: {unique_label_count}\")\n"
      ]
    },
    {
      "cell_type": "code",
      "execution_count": null,
      "id": "83bc9bc6-8d61-4f9e-86cb-fa5102b557e1",
      "metadata": {
        "id": "83bc9bc6-8d61-4f9e-86cb-fa5102b557e1"
      },
      "outputs": [],
      "source": [
        "unique_labels"
      ]
    },
    {
      "cell_type": "code",
      "execution_count": 17,
      "id": "SONxeAFZZTWc",
      "metadata": {
        "id": "SONxeAFZZTWc"
      },
      "outputs": [],
      "source": [
        "import tensorflow as tf\n",
        "from sklearn.preprocessing import LabelEncoder\n",
        "\n",
        "label_encoder = LabelEncoder()\n",
        "train_labels_encoded = label_encoder.fit_transform(labels)\n",
        "\n",
        "num_classes = len(label_encoder.classes_)\n",
        "train_labels_onehot = tf.one_hot(train_labels_encoded, depth=unique_label_count)"
      ]
    },
    {
      "cell_type": "code",
      "execution_count": null,
      "id": "63ba4d2c-c6a3-4cbb-b7b3-dfefbe01a4a4",
      "metadata": {
        "id": "63ba4d2c-c6a3-4cbb-b7b3-dfefbe01a4a4"
      },
      "outputs": [],
      "source": [
        "train_labels_onehot[0]"
      ]
    },
    {
      "cell_type": "code",
      "execution_count": null,
      "id": "XpKuaAoGhty8",
      "metadata": {
        "id": "XpKuaAoGhty8"
      },
      "outputs": [],
      "source": [
        "num_classes"
      ]
    },
    {
      "cell_type": "code",
      "execution_count": null,
      "id": "DhpanzSQbkeH",
      "metadata": {
        "id": "DhpanzSQbkeH"
      },
      "outputs": [],
      "source": [
        "max_words = max([len(symptom.split()) for symptom in Symptoms])\n",
        "\n",
        "unique_words = set()\n",
        "\n",
        "for symptom in Symptoms:\n",
        "  for word in symptom.split():\n",
        "    unique_words.add(word)\n",
        "\n",
        "num_unique_words = len(unique_words)\n",
        "\n",
        "num_unique_words,max_words\n"
      ]
    },
    {
      "cell_type": "code",
      "source": [
        "len(train_labels_onehot)"
      ],
      "metadata": {
        "id": "GSR5dIGNWD2q"
      },
      "id": "GSR5dIGNWD2q",
      "execution_count": null,
      "outputs": []
    },
    {
      "cell_type": "code",
      "source": [
        "from sklearn.model_selection import train_test_split\n",
        "import numpy as np\n",
        "\n",
        "Symptoms = np.array(Symptoms)\n",
        "train_labels_onehot = np.array(train_labels_onehot)\n",
        "\n",
        "X_train, X_test, y_train, y_test = train_test_split(Symptoms, train_labels_onehot, test_size=0.2, shuffle=True, random_state=42)\n"
      ],
      "metadata": {
        "id": "SuA_A3MwUrr0"
      },
      "id": "SuA_A3MwUrr0",
      "execution_count": 43,
      "outputs": []
    },
    {
      "cell_type": "code",
      "execution_count": 46,
      "id": "LKI5u4WbPQyw",
      "metadata": {
        "id": "LKI5u4WbPQyw"
      },
      "outputs": [],
      "source": [
        "train_dataset = tf.data.Dataset.from_tensor_slices((X_train, y_train))\n",
        "train_dataset = train_dataset.shuffle(buffer_size=1024).batch(128).prefetch(buffer_size=tf.data.experimental.AUTOTUNE)\n",
        "\n",
        "test_dataset = tf.data.Dataset.from_tensor_slices((X_test, y_test))\n",
        "test_dataset = test_dataset.shuffle(buffer_size=1024).batch(128).prefetch(buffer_size=tf.data.experimental.AUTOTUNE)\n"
      ]
    },
    {
      "cell_type": "code",
      "execution_count": 45,
      "id": "oaouvPPbbwFd",
      "metadata": {
        "id": "oaouvPPbbwFd"
      },
      "outputs": [],
      "source": [
        "from tensorflow.keras.layers import TextVectorization , Embedding\n",
        "\n",
        "text_vectorizer = TextVectorization(max_tokens=num_unique_words, pad_to_max_tokens=True)\n",
        "text_vectorizer.adapt(Symptoms)\n",
        "\n",
        "embedded_symptoms=Embedding(input_dim=num_unique_words,output_dim=max_words,mask_zero=True,)\n"
      ]
    },
    {
      "cell_type": "code",
      "source": [
        "import tensorflow as tf\n",
        "from tensorflow.keras import layers\n",
        "\n",
        "\n",
        "inputs = tf.keras.Input(shape=(1,), dtype='string')\n",
        "\n",
        "x1 = text_vectorizer(inputs)\n",
        "x1 = embedded_symptoms(x1)\n",
        "x1 = layers.GlobalAveragePooling1D()(x1)\n",
        "x1 = layers.Dense(128, activation='relu')(x1)\n",
        "x1 = layers.Dropout(0.5)(x1)\n",
        "x1 = layers.Dense(64, activation='relu')(x1)\n",
        "outputs1 = layers.Dense(num_classes, activation='softmax')(x1)\n",
        "model1 = tf.keras.Model(inputs, outputs1)\n",
        "model1.compile(loss='categorical_crossentropy', optimizer=tf.keras.optimizers.Adam(learning_rate=0.01), metrics=['accuracy'])\n",
        "history1 = model1.fit(train_dataset, epochs=15, validation_data=test_dataset)\n"
      ],
      "metadata": {
        "id": "p_AudoMSliG0"
      },
      "id": "p_AudoMSliG0",
      "execution_count": null,
      "outputs": []
    }
  ],
  "metadata": {
    "accelerator": "GPU",
    "colab": {
      "gpuType": "T4",
      "provenance": []
    },
    "kernelspec": {
      "display_name": "tfenv",
      "language": "python",
      "name": "tfenv"
    },
    "language_info": {
      "codemirror_mode": {
        "name": "ipython",
        "version": 3
      },
      "file_extension": ".py",
      "mimetype": "text/x-python",
      "name": "python",
      "nbconvert_exporter": "python",
      "pygments_lexer": "ipython3",
      "version": "3.11.5"
    }
  },
  "nbformat": 4,
  "nbformat_minor": 5
}